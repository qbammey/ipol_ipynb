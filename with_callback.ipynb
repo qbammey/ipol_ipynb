{
 "cells": [
  {
   "cell_type": "code",
   "execution_count": null,
   "metadata": {},
   "outputs": [],
   "source": [
    "from time import time  # Used to show loading and execution time,\n",
    "t0 = time()"
   ]
  },
  {
   "cell_type": "markdown",
   "metadata": {},
   "source": [
    "# IPOL with a notebook\n",
    "## Example with the simplest colour balance algorithm"
   ]
  },
  {
   "cell_type": "markdown",
   "metadata": {},
   "source": [
    "## Notebook-related imports\n",
    "\n",
    "Only `ipywidgets` is strictly necessary"
   ]
  },
  {
   "cell_type": "code",
   "execution_count": null,
   "metadata": {},
   "outputs": [],
   "source": [
    "# the following two are helpful to automatically load example images from a folder, but are not strictly needed\n",
    "from pathlib import Path"
   ]
  },
  {
   "cell_type": "markdown",
   "metadata": {},
   "source": [
    "pathlib imported"
   ]
  },
  {
   "cell_type": "code",
   "execution_count": null,
   "metadata": {},
   "outputs": [],
   "source": [
    "from glob import glob"
   ]
  },
  {
   "cell_type": "markdown",
   "metadata": {},
   "source": [
    "glob imported"
   ]
  },
  {
   "cell_type": "code",
   "execution_count": null,
   "metadata": {},
   "outputs": [],
   "source": [
    "# PIL can crop images and rewrites them as byte arrays with io\n",
    "import io"
   ]
  },
  {
   "cell_type": "markdown",
   "metadata": {},
   "source": [
    "io imported"
   ]
  },
  {
   "cell_type": "code",
   "execution_count": null,
   "metadata": {},
   "outputs": [],
   "source": [
    "from PIL import Image"
   ]
  },
  {
   "cell_type": "markdown",
   "metadata": {},
   "source": [
    "pil"
   ]
  },
  {
   "cell_type": "code",
   "execution_count": null,
   "metadata": {},
   "outputs": [],
   "source": [
    "import ipywidgets as widgets  # to select inputs"
   ]
  },
  {
   "cell_type": "markdown",
   "metadata": {},
   "source": [
    "ipywidgets"
   ]
  },
  {
   "cell_type": "code",
   "execution_count": null,
   "metadata": {},
   "outputs": [],
   "source": [
    "import imageio  # ipywidgets reads images as a byte array, imageio can then convert it to a more useful numpy array"
   ]
  },
  {
   "cell_type": "markdown",
   "metadata": {},
   "source": [
    "imageio"
   ]
  },
  {
   "cell_type": "code",
   "execution_count": 1,
   "metadata": {},
   "outputs": [],
   "source": [
    "from matplotlib import pyplot as plt  # Will be used to plot results"
   ]
  },
  {
   "cell_type": "code",
   "execution_count": 1,
   "metadata": {},
   "outputs": [
    {
     "name": "stdout",
     "output_type": "stream",
     "text": [
      "Using matplotlib backend: Qt5Agg\n"
     ]
    }
   ],
   "source": [
    "matplotlib"
   ]
  },
  {
   "cell_type": "markdown",
   "metadata": {},
   "source": [
    "**The following line can make the resulting plots be seen interactively. `ipympl` is required.**\n",
    "\n",
    "This also means a few seconds are needed just to show the results. It can be disabled, and outputs will be shown statically."
   ]
  },
  {
   "cell_type": "code",
   "execution_count": 5,
   "metadata": {},
   "outputs": [],
   "source": [
    "%matplotlib widget"
   ]
  },
  {
   "cell_type": "markdown",
   "metadata": {},
   "source": [
    "## Imports related to the code."
   ]
  },
  {
   "cell_type": "code",
   "execution_count": 2,
   "metadata": {},
   "outputs": [],
   "source": [
    "import numpy as np  # used in the code just below\n",
    "\n",
    "from simplest_color_balance import scb  # our code"
   ]
  },
  {
   "cell_type": "markdown",
   "metadata": {},
   "source": [
    "### Demo-specific code\n",
    "\n",
    "For instance : code to display results, or functions to run the code that don't fit in just a few lines but should not be in a separate file because they are specific to the notebook.\n",
    "\n",
    "Here we write a function to plot the image histogram."
   ]
  },
  {
   "cell_type": "code",
   "execution_count": 19,
   "metadata": {},
   "outputs": [],
   "source": [
    "def histogram(img, ax):\n",
    "    if img.ndim == 3:\n",
    "        sz = img[:, :, 0].size\n",
    "        hist_r, _ = np.histogram(img[:, :, 0].ravel(),256,[0,256])\n",
    "        hist_g, _ = np.histogram(img[:, :, 1].ravel(),256,[0,256])\n",
    "        hist_b, _ = np.histogram(img[:, :, 2].ravel(),256,[0,256])\n",
    "        hist_r = hist_r / sz\n",
    "        hist_g = hist_g / sz\n",
    "        hist_b = hist_b / sz\n",
    "        ax.plot(hist_r, color='red', lw=.8)\n",
    "        ax.plot(hist_g, color='green', lw=.8)\n",
    "        ax.plot(hist_b, color='blue', lw=.8)\n",
    "    elif img.ndim == 1:\n",
    "        hist, _ = np.histogram(img.ravel(), 256, [0, 256], lw=.8)\n",
    "        ax.plot(hist)\n",
    "    else:\n",
    "        raise ValueError(img.ndim)\n"
   ]
  },
  {
   "cell_type": "markdown",
   "metadata": {},
   "source": [
    "## Now we define the widgets"
   ]
  },
  {
   "cell_type": "markdown",
   "metadata": {},
   "source": [
    "### Image selection"
   ]
  },
  {
   "cell_type": "markdown",
   "metadata": {},
   "source": [
    "We can upload an image"
   ]
  },
  {
   "cell_type": "code",
   "execution_count": null,
   "metadata": {},
   "outputs": [],
   "source": [
    "w_up_img = widgets.FileUpload(\n",
    "    accept='image/*',\n",
    "    description=\"Input image\"\n",
    ")"
   ]
  },
  {
   "cell_type": "markdown",
   "metadata": {},
   "source": [
    "Or we can choose one for examples, this takes a few more lines:\n",
    "\n",
    "First we gather the example images"
   ]
  },
  {
   "cell_type": "code",
   "execution_count": null,
   "metadata": {},
   "outputs": [],
   "source": [
    "images = sorted(list(map(Path, glob('images/original/*'))))[:10]"
   ]
  },
  {
   "cell_type": "markdown",
   "metadata": {},
   "source": [
    "We create a list of widgets, each widget shows an images"
   ]
  },
  {
   "cell_type": "code",
   "execution_count": null,
   "metadata": {},
   "outputs": [],
   "source": [
    "ws_images = [widgets.Image(width=150, height=150, value=open(img, 'rb').read()) for img in images]"
   ]
  },
  {
   "cell_type": "markdown",
   "metadata": {},
   "source": [
    "Alongside the list of image widgets, we create a list of buttons to select each image. Here, the button description is the name of the image."
   ]
  },
  {
   "cell_type": "code",
   "execution_count": null,
   "metadata": {},
   "outputs": [],
   "source": [
    "images_labels_text = [img.stem for img in images]\n",
    "\n",
    "ws_buttons = [widgets.Button(description=label, button_style='') for label in images_labels_text]"
   ]
  },
  {
   "cell_type": "markdown",
   "metadata": {},
   "source": [
    "Merge the \"image\" and \"button\" widgets: each widget in this list shows the image, and below a button to \"select\" it."
   ]
  },
  {
   "cell_type": "code",
   "execution_count": null,
   "metadata": {},
   "outputs": [],
   "source": [
    "ws_stack_image_button = [widgets.VBox([i, b]) for i, b in zip(ws_images, ws_buttons)]"
   ]
  },
  {
   "cell_type": "markdown",
   "metadata": {},
   "source": [
    "Turn the list of widgets into one widget, which shows the different images in a grid layout."
   ]
  },
  {
   "cell_type": "code",
   "execution_count": null,
   "metadata": {},
   "outputs": [],
   "source": [
    "w_img_choice = widgets.GridBox(ws_stack_image_button, layout=widgets.Layout(grid_template_columns=\"repeat(5, 200px)\"))"
   ]
  },
  {
   "cell_type": "markdown",
   "metadata": {},
   "source": [
    "`w_selected_img` is used to show the currently selected image, be it uploaded or selected among the examples."
   ]
  },
  {
   "cell_type": "code",
   "execution_count": null,
   "metadata": {},
   "outputs": [],
   "source": [
    "w_selected_img = widgets.Image(width=300, height=300)"
   ]
  },
  {
   "cell_type": "markdown",
   "metadata": {},
   "source": [
    "### Image Cropping\n",
    "\n",
    "Now we show a checkbox to select whether to crop the image."
   ]
  },
  {
   "cell_type": "code",
   "execution_count": null,
   "metadata": {},
   "outputs": [],
   "source": [
    "w_choose_crop = widgets.Checkbox(value=False, description=\"Crop image?\")"
   ]
  },
  {
   "cell_type": "markdown",
   "metadata": {},
   "source": [
    "And two sliders to select by how much."
   ]
  },
  {
   "cell_type": "code",
   "execution_count": null,
   "metadata": {},
   "outputs": [],
   "source": [
    "w_crop_slider_x = widgets.IntRangeSlider(\n",
    "    min=0,\n",
    "    max=0,\n",
    "    value=(0, 0),\n",
    "    step=1,\n",
    "    description='X Crop')\n",
    "\n",
    "w_crop_slider_y = widgets.IntRangeSlider(\n",
    "    min=0,\n",
    "    max=0,\n",
    "    value=(0, 0),\n",
    "    step=1,\n",
    "    description='Y Crop')"
   ]
  },
  {
   "cell_type": "markdown",
   "metadata": {},
   "source": [
    "By default, the two sliders are hidden : they will only be shown if the checkbox to crop is clicked."
   ]
  },
  {
   "cell_type": "code",
   "execution_count": null,
   "metadata": {},
   "outputs": [],
   "source": [
    "w_crop_slider_x.layout.visibility = 'hidden'\n",
    "w_crop_slider_y.layout.visibility = 'hidden'"
   ]
  },
  {
   "cell_type": "markdown",
   "metadata": {},
   "source": [
    "### Parametres of the simplest color balance\n",
    "\n",
    "The SCB algorithms takes two parametres : the percentage of pixels to saturate in both ends of the spectrum.\n",
    "\n",
    "They can be set in two ways : using a slider, or by writing them down in a textbox. We thus create one widget for the slider, and one for each textbox."
   ]
  },
  {
   "cell_type": "code",
   "execution_count": null,
   "metadata": {},
   "outputs": [],
   "source": [
    "w_s = widgets.FloatRangeSlider(\n",
    "    min=0,\n",
    "    max=100,\n",
    "    value=(1.5, 98.5),\n",
    "    step=.1,\n",
    "    readout_format='.1f',\n",
    "    description='Percentage of pixels to keep')\n",
    "w_s0 = widgets.FloatText(description='s0', value=w_s.value[0])\n",
    "w_s1 = widgets.FloatText(description='s1', value=w_s.value[1])"
   ]
  },
  {
   "cell_type": "markdown",
   "metadata": {},
   "source": [
    "### Button to run the code once parametres are set"
   ]
  },
  {
   "cell_type": "code",
   "execution_count": null,
   "metadata": {},
   "outputs": [],
   "source": [
    "w_run = widgets.ToggleButton(value=False, description='run', icon='cog')"
   ]
  },
  {
   "cell_type": "markdown",
   "metadata": {},
   "source": [
    "## Observation\n",
    "\n",
    "Now that the widgets are defined, we create observation functions to interact with them:\n",
    "\n",
    "First, the generic function that can update `w_selected_img` with a new image. It also sets the range of the sliders to crop the image:"
   ]
  },
  {
   "cell_type": "code",
   "execution_count": null,
   "metadata": {},
   "outputs": [],
   "source": [
    "def set_new_image(new_img):\n",
    "    w_selected_img.value = new_img\n",
    "    w_selected_img.stored = w_selected_img.value\n",
    "    Y, X = imageio.imread(w_selected_img.value).shape[:2]\n",
    "    w_crop_slider_x.max = X\n",
    "    w_crop_slider_y.max = Y\n",
    "    w_crop_slider_x.value = (0, X)\n",
    "    w_crop_slider_y.value = (0, Y)\n",
    "    w_choose_crop.value = False"
   ]
  },
  {
   "cell_type": "markdown",
   "metadata": {},
   "source": [
    "Observation functions for image upload (`observe_w_up_img`) or image selection (`observe_w_img_choice`). As buttons give no easy way of telling which button was pressed, we simply add a new property to them (`id`)"
   ]
  },
  {
   "cell_type": "code",
   "execution_count": null,
   "metadata": {},
   "outputs": [],
   "source": [
    "def observe_w_up_img(change):\n",
    "    set_new_image(change.new[0])\n",
    "\n",
    "def observe_w_img_choice(b):\n",
    "    set_new_image(ws_images[b.id].value)"
   ]
  },
  {
   "cell_type": "markdown",
   "metadata": {},
   "source": [
    "Link the observation functions to the widgets."
   ]
  },
  {
   "cell_type": "code",
   "execution_count": null,
   "metadata": {},
   "outputs": [],
   "source": [
    "for i in range(len(ws_buttons)):\n",
    "    ws_buttons[i].id = i\n",
    "    ws_buttons[i].on_click(observe_w_img_choice)\n",
    "\n",
    "w_up_img.observe(observe_w_up_img, names='data')"
   ]
  },
  {
   "cell_type": "markdown",
   "metadata": {},
   "source": [
    "Load the first example image as a default choice."
   ]
  },
  {
   "cell_type": "code",
   "execution_count": null,
   "metadata": {},
   "outputs": [],
   "source": [
    "observe_w_img_choice(ws_buttons[0])"
   ]
  },
  {
   "cell_type": "markdown",
   "metadata": {},
   "source": [
    "Now for cropping:\n",
    "* `observe_w_choose_crop`: When the checkbox is clicked, make visible the crop sliders. When it is unclicked, hide them and restore the image to full size\n",
    "* `observe_w_crop_sliders`: When the crop sliders are moved, \n",
    "* If it is selected in text, update sliders value, and vice versa\n"
   ]
  },
  {
   "cell_type": "code",
   "execution_count": null,
   "metadata": {},
   "outputs": [],
   "source": [
    "def observe_w_choose_crop(change):\n",
    "    if change.new:\n",
    "        w_crop_slider_x.layout.visibility = 'visible'\n",
    "        w_crop_slider_y.layout.visibility = 'visible'\n",
    "    else:\n",
    "        w_crop_slider_x.layout.visibility = 'hidden'\n",
    "        w_crop_slider_y.layout.visibility = 'hidden'\n",
    "        w_selected_img.value = w_selected_img.stored\n",
    "    \n",
    "\n",
    "def observe_w_crop_sliders(_):\n",
    "    left, right = w_crop_slider_x.value\n",
    "    top, bottom = w_crop_slider_y.value\n",
    "    img = Image.open(io.BytesIO(w_selected_img.stored))\n",
    "    img = img.crop((left, top, right, bottom))\n",
    "    out = io.BytesIO()\n",
    "    img.save(out, format='png')\n",
    "    out.seek(0)\n",
    "    w_selected_img.value = out.read()\n",
    "    \n",
    "\n",
    "w_choose_crop.observe(observe_w_choose_crop, 'value')\n",
    "w_crop_slider_x.observe(observe_w_crop_sliders, 'value')\n",
    "w_crop_slider_y.observe(observe_w_crop_sliders, 'value') \n",
    "    "
   ]
  },
  {
   "cell_type": "markdown",
   "metadata": {},
   "source": [
    "saturation parametres:\n",
    "* `observe_w_s0`, `observe_w_s1` : if value is selected in textbox, force it within the accepted range, and update the slider\n",
    "* `observe_w_s` : if value is selected with the slider, update the textboxes"
   ]
  },
  {
   "cell_type": "code",
   "execution_count": null,
   "metadata": {},
   "outputs": [],
   "source": [
    "def observe_w_s0(change):\n",
    "    old_s0, s1 = w_s.value\n",
    "    new_s0 = min(s1, max(0, change.new))\n",
    "    w_s0.value = new_s0\n",
    "    w_s.value = new_s0, s1\n",
    "    \n",
    "def observe_w_s1(change):\n",
    "    s0, old_s1 = w_s.value\n",
    "    new_s1 = min(100, max(s0, change.new))\n",
    "    w_s1.value = new_s1\n",
    "    w_s.value = s0, new_s1\n",
    "    \n",
    "def observe_w_s(change):\n",
    "    s0, s1 = change.new\n",
    "    w_s0.value = s0\n",
    "    w_s1.value = s1\n",
    "    \n",
    "\n",
    "# load observations\n",
    "\n",
    "\n",
    "w_s0.observe(observe_w_s0, names='value')\n",
    "w_s1.observe(observe_w_s1, names='value')\n",
    "w_s.observe(observe_w_s, names='value')"
   ]
  },
  {
   "cell_type": "markdown",
   "metadata": {},
   "source": [
    "`launch` is to be called every time the input changes. We only want the code to run once everything is selected, so if the run button isn't on we return immediately. If it is on, we disable it and run the code.\n",
    "\n",
    "This function processes the inputs (for instance, here convert the input image from byte string to numpy array), runs the code, displays the results, and registers them to the IPOL archive."
   ]
  },
  {
   "cell_type": "code",
   "execution_count": null,
   "metadata": {},
   "outputs": [],
   "source": [
    "def launch(ready, img, s0, s1):\n",
    "    if not ready:\n",
    "        return\n",
    "    t0 = time()\n",
    "    w_run.value = False\n",
    "    img = imageio.imread(img)\n",
    "    t1 = time()\n",
    "    out = run(img, s0, s1)\n",
    "    t2 = time()\n",
    "    display_results(img, s0, s1, out)\n",
    "    register_results(img, s0, s1, out) \n",
    "    t3 = time()\n",
    "    print(f\"\"\"\n",
    "    Data conversion time: {t1-t0:.3f}s.\n",
    "    Code execution time: {t2-t1:.3f}s.\n",
    "    Results display time: {t3-t1:.3f}s.\n",
    "    Total execution time: {t3-t0:.3f}s.\n",
    "    \"\"\"\n",
    "    )"
   ]
  },
  {
   "cell_type": "markdown",
   "metadata": {},
   "source": [
    "`run` is the function that takes input as processed by `launch`, runs the full code, and returns the output."
   ]
  },
  {
   "cell_type": "code",
   "execution_count": null,
   "metadata": {},
   "outputs": [],
   "source": [
    "def run(img, s0, s1):\n",
    "    s0 = s0/100\n",
    "    s1 = 1 - s1/100    \n",
    "    out = scb(img, s0, s1)\n",
    "    return out"
   ]
  },
  {
   "cell_type": "markdown",
   "metadata": {},
   "source": [
    "`display_results` takes the inputs and outputs and displays them in the notebook."
   ]
  },
  {
   "cell_type": "code",
   "execution_count": null,
   "metadata": {},
   "outputs": [],
   "source": [
    "def display_results(img, s0, s1, out):\n",
    "    fig, ax = plt.subplots(2, 2, figsize=(10, 5))\n",
    "    ax[0, 0].imshow(img)\n",
    "    ax[0, 0].set_title('Input')\n",
    "    ax[0, 0].axis('off')\n",
    "    ax[0, 1].imshow(out)\n",
    "    ax[0, 1].set_title('Output')\n",
    "    ax[0, 1].axis('off')\n",
    "    histogram(img, ax[1, 0])\n",
    "    ax[1, 0].set_title('Input histogram')\n",
    "    histogram(out*255, ax[1, 1])\n",
    "    ax[1, 1].set_title('Output histogram')\n",
    "    plt.show()"
   ]
  },
  {
   "cell_type": "markdown",
   "metadata": {},
   "source": [
    "Finally, `register_results` is used to archive the experiment to IPOL."
   ]
  },
  {
   "cell_type": "code",
   "execution_count": null,
   "metadata": {},
   "outputs": [],
   "source": [
    "def register_results(*args, **kwargs):\n",
    "    return"
   ]
  },
  {
   "cell_type": "markdown",
   "metadata": {},
   "source": [
    "`w_out` is used to call the `launch` function whenever the input changes (`launch` will then return immediately if the run button wasn't last pressed).\n",
    "\n",
    "There are options to directly add a run button and only run the `launch` function then, but it does not seem compatible with complex inputs such as the one we need."
   ]
  },
  {
   "cell_type": "code",
   "execution_count": null,
   "metadata": {},
   "outputs": [],
   "source": [
    "w_out = widgets.interactive_output(launch, {'ready': w_run, 'img': w_selected_img, 's0': w_s0, 's1': w_s1})"
   ]
  },
  {
   "cell_type": "markdown",
   "metadata": {},
   "source": [
    "Create a VBox to display all widgets together (TBD: it's possible to create a better layout)"
   ]
  },
  {
   "cell_type": "code",
   "execution_count": null,
   "metadata": {},
   "outputs": [],
   "source": [
    "w_all_widgets = widgets.VBox(\n",
    "    [\n",
    "        w_up_img,  # upload an image\n",
    "        w_img_choice,  # choose an image in selection\n",
    "        w_selected_img,  # shows the selected/uploaded image\n",
    "        widgets.HBox([w_choose_crop, w_crop_slider_x, w_crop_slider_y]),  # crop the image\n",
    "        widgets.HBox([w_s0, w_s, w_s1]),  # Simplest Colour Balance saturation parametres\n",
    "        w_run,  # Run button\n",
    "        w_out,  # Interactive output\n",
    "    ],\n",
    "    align_items='center'\n",
    ")\n",
    "\n",
    "#w_run.on_click(callback)\n",
    "\n",
    "# display\n",
    "#display(vb)"
   ]
  },
  {
   "cell_type": "code",
   "execution_count": null,
   "metadata": {},
   "outputs": [],
   "source": [
    "display(w_all_widgets)\n",
    "t1 = time()\n",
    "print(f\"Notebook loaded in {t1-t0:.3f}s.\")"
   ]
  }
 ],
 "metadata": {
  "kernelspec": {
   "display_name": "Python 3",
   "language": "python",
   "name": "python3"
  },
  "language_info": {
   "codemirror_mode": {
    "name": "ipython",
    "version": 3
   },
   "file_extension": ".py",
   "mimetype": "text/x-python",
   "name": "python",
   "nbconvert_exporter": "python",
   "pygments_lexer": "ipython3",
   "version": "3.9.1"
  }
 },
 "nbformat": 4,
 "nbformat_minor": 4
}
