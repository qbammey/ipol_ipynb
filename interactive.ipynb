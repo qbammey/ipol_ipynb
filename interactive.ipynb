{
 "cells": [
  {
   "cell_type": "markdown",
   "metadata": {},
   "source": [
    "# Simplest Colour Balance\n",
    "## IPOL notebook demo (interactive version)"
   ]
  },
  {
   "cell_type": "code",
   "execution_count": 1,
   "metadata": {},
   "outputs": [],
   "source": [
    "from pathlib import Path\n",
    "from glob import glob\n",
    "\n",
    "import io\n",
    "from PIL import Image\n",
    "\n",
    "import ipywidgets as widgets  # to select inputs\n",
    "import imageio  # ipywidgets reads images as a byte array, imageio can then convert it to a more useful numpy array\n",
    "from matplotlib import pyplot as plt  # Will be used to plot results"
   ]
  },
  {
   "cell_type": "code",
   "execution_count": 2,
   "metadata": {},
   "outputs": [],
   "source": [
    "%matplotlib widget"
   ]
  },
  {
   "cell_type": "code",
   "execution_count": 3,
   "metadata": {},
   "outputs": [],
   "source": [
    "import numpy as np  # used in the code just below\n",
    "\n",
    "from simplest_color_balance import scb  # our code"
   ]
  },
  {
   "cell_type": "code",
   "execution_count": 4,
   "metadata": {},
   "outputs": [],
   "source": [
    "import ipol"
   ]
  },
  {
   "cell_type": "code",
   "execution_count": 5,
   "metadata": {},
   "outputs": [],
   "source": [
    "def histogram(img, ax):\n",
    "    if img.ndim == 3:\n",
    "        sz = img[:, :, 0].size\n",
    "        hist_r, _ = np.histogram(img[:, :, 0].ravel(),256,[0,256])\n",
    "        hist_g, _ = np.histogram(img[:, :, 1].ravel(),256,[0,256])\n",
    "        hist_b, _ = np.histogram(img[:, :, 2].ravel(),256,[0,256])\n",
    "        hist_r = hist_r / sz\n",
    "        hist_g = hist_g / sz\n",
    "        hist_b = hist_b / sz\n",
    "        ax.plot(hist_r, color='red', lw=.8)\n",
    "        ax.plot(hist_g, color='green', lw=.8)\n",
    "        ax.plot(hist_b, color='blue', lw=.8)\n",
    "    elif img.ndim == 1:\n",
    "        hist, _ = np.histogram(img.ravel(), 256, [0, 256], lw=.8)\n",
    "        ax.plot(hist)\n",
    "    else:\n",
    "        raise ValueError(img.ndim)"
   ]
  },
  {
   "cell_type": "code",
   "execution_count": 20,
   "metadata": {},
   "outputs": [],
   "source": [
    "class Launcher(ipol.IPOLLauncher):\n",
    "    def __init__(self):\n",
    "        images = sorted(list(map(Path, glob('images/*'))))[:10]\n",
    "        self.w_in_image = ipol.ImageInput(description=\"Input image\",\n",
    "                                           example_paths=images,\n",
    "                                           example_labels=None,\n",
    "                                           enable_upload=True,\n",
    "                                           enable_crop=True)\n",
    "        self.w_in_saturation = ipol.RangeTextSlider(0, 1,\n",
    "                                                    default_values=(.015, .985),\n",
    "                                                    value_type='float',\n",
    "                                                    description_left='s0',\n",
    "                                                    description_right='s1',\n",
    "                                                    description='Saturation',\n",
    "                                                    step=1e-3,\n",
    "                                                    readout_format='.1%')\n",
    "        in_widgets = [self.w_in_image, self.w_in_saturation]\n",
    "        launch_params = {'img': self.w_in_image, 'saturation': self.w_in_saturation}\n",
    "        super().__init__(launch_params, in_widgets)\n",
    "        \n",
    "    def launch(self, img, saturation):\n",
    "        img = imageio.imread(img)\n",
    "        s0, s1 = saturation\n",
    "        out = self.run(img, s0, s1)\n",
    "        self.display_results(img, out)\n",
    "        # we could also have self.display_results return the histogram to register it\n",
    "        self.register(input_image=img, s0=s0, s1=s1, result=out)\n",
    "        \n",
    "    def run(self, img, s0, s1):\n",
    "        \"\"\"\n",
    "        The true code that runs the demo is here. The rest is only the I/O interface.\n",
    "        For more complex code, it's possible to externalize functions in other cells, but they must be called by `run`\n",
    "        (it is **not** possible to arbitrarily run cells).\n",
    "        \"\"\"\n",
    "        out = scb(img, s0, 1-s1)\n",
    "        return out\n",
    "    \n",
    "    def display_results(self, img, out):\n",
    "        fig, ax = plt.subplots(2, 2, figsize=(10, 5))\n",
    "        ax[0, 0].imshow(img)\n",
    "        ax[0, 0].set_title('Input')\n",
    "        ax[0, 0].axis('off')\n",
    "        ax[0, 1].imshow(out)\n",
    "        ax[0, 1].set_title('Output')\n",
    "        ax[0, 1].axis('off')\n",
    "        histogram(img, ax[1, 0])\n",
    "        ax[1, 0].set_title('Input histogram')\n",
    "        histogram((out*255).astype(np.uint8), ax[1, 1])\n",
    "        ax[1, 1].set_title('Output histogram')\n",
    "        plt.show()"
   ]
  },
  {
   "cell_type": "code",
   "execution_count": 21,
   "metadata": {},
   "outputs": [],
   "source": [
    "launcher = Launcher()"
   ]
  },
  {
   "cell_type": "code",
   "execution_count": 22,
   "metadata": {},
   "outputs": [
    {
     "data": {
      "application/vnd.jupyter.widget-view+json": {
       "model_id": "0c0651252d454d07a46ae7bea5172665",
       "version_major": 2,
       "version_minor": 0
      },
      "text/plain": [
       "VBox(children=(ImageInput(children=(Label(value='Input image'), FileUpload(value={}, accept='image/*', descrip…"
      ]
     },
     "metadata": {},
     "output_type": "display_data"
    }
   ],
   "source": [
    "launcher.display()"
   ]
  }
 ],
 "metadata": {
  "kernelspec": {
   "display_name": "Python 3",
   "language": "python",
   "name": "python3"
  },
  "language_info": {
   "codemirror_mode": {
    "name": "ipython",
    "version": 3
   },
   "file_extension": ".py",
   "mimetype": "text/x-python",
   "name": "python",
   "nbconvert_exporter": "python",
   "pygments_lexer": "ipython3",
   "version": "3.9.1"
  }
 },
 "nbformat": 4,
 "nbformat_minor": 4
}
