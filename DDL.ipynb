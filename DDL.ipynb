{
 "cells": [
  {
   "cell_type": "markdown",
   "metadata": {},
   "source": [
    "# Simplest Colour Balance\n",
    "## IPOL notebook demo (static version, requires input via IPOL DDL)"
   ]
  },
  {
   "cell_type": "code",
   "execution_count": 1,
   "metadata": {},
   "outputs": [],
   "source": [
    "from pathlib import Path\n",
    "from glob import glob\n",
    "\n",
    "import io\n",
    "from PIL import Image\n",
    "\n",
    "import ipywidgets as widgets  # to select inputs\n",
    "import imageio  # ipywidgets reads images as a byte array, imageio can then convert it to a more useful numpy array\n",
    "from matplotlib import pyplot as plt  # Will be used to plot results"
   ]
  },
  {
   "cell_type": "code",
   "execution_count": 2,
   "metadata": {},
   "outputs": [],
   "source": [
    "%matplotlib widget"
   ]
  },
  {
   "cell_type": "code",
   "execution_count": 3,
   "metadata": {},
   "outputs": [],
   "source": [
    "import numpy as np  # used in the code just below\n",
    "\n",
    "from simplest_color_balance import scb  # our code"
   ]
  },
  {
   "cell_type": "code",
   "execution_count": 8,
   "metadata": {},
   "outputs": [],
   "source": [
    "# Load input here. Input is in standard files, the DDL is configured to write it there\n",
    "img = imageio.imread('im0.png')\n",
    "s0 = float(open('s0.txt', 'r').read())\n",
    "s1 = float(open('s1.txt', 'r').read())"
   ]
  },
  {
   "cell_type": "code",
   "execution_count": 9,
   "metadata": {},
   "outputs": [],
   "source": [
    "def histogram(img, ax):\n",
    "    if img.ndim == 3:\n",
    "        sz = img[:, :, 0].size\n",
    "        hist_r, _ = np.histogram(img[:, :, 0].ravel(),256,[0,256])\n",
    "        hist_g, _ = np.histogram(img[:, :, 1].ravel(),256,[0,256])\n",
    "        hist_b, _ = np.histogram(img[:, :, 2].ravel(),256,[0,256])\n",
    "        hist_r = hist_r / sz\n",
    "        hist_g = hist_g / sz\n",
    "        hist_b = hist_b / sz\n",
    "        ax.plot(hist_r, color='red', lw=.8)\n",
    "        ax.plot(hist_g, color='green', lw=.8)\n",
    "        ax.plot(hist_b, color='blue', lw=.8)\n",
    "    elif img.ndim == 1:\n",
    "        hist, _ = np.histogram(img.ravel(), 256, [0, 256], lw=.8)\n",
    "        ax.plot(hist)\n",
    "    else:\n",
    "        raise ValueError(img.ndim)"
   ]
  },
  {
   "cell_type": "code",
   "execution_count": 10,
   "metadata": {},
   "outputs": [],
   "source": [
    "out = scb(img, s0, 1-s1)"
   ]
  },
  {
   "cell_type": "code",
   "execution_count": 11,
   "metadata": {},
   "outputs": [
    {
     "data": {
      "application/vnd.jupyter.widget-view+json": {
       "model_id": "194d70ac6c3443d695fa9fe8c3923e19",
       "version_major": 2,
       "version_minor": 0
      },
      "text/plain": [
       "Canvas(toolbar=Toolbar(toolitems=[('Home', 'Reset original view', 'home', 'home'), ('Back', 'Back to previous …"
      ]
     },
     "metadata": {},
     "output_type": "display_data"
    }
   ],
   "source": [
    "fig, ax = plt.subplots(2, 2, figsize=(10, 5))\n",
    "ax[0, 0].imshow(img)\n",
    "ax[0, 0].set_title('Input')\n",
    "ax[0, 0].axis('off')\n",
    "ax[0, 1].imshow(out)\n",
    "ax[0, 1].set_title('Output')\n",
    "ax[0, 1].axis('off')\n",
    "histogram(img, ax[1, 0])\n",
    "ax[1, 0].set_title('Input histogram')\n",
    "histogram((out*255).astype(np.uint8), ax[1, 1])\n",
    "ax[1, 1].set_title('Output histogram')\n",
    "plt.show()"
   ]
  }
 ],
 "metadata": {
  "kernelspec": {
   "display_name": "Python 3",
   "language": "python",
   "name": "python3"
  },
  "language_info": {
   "codemirror_mode": {
    "name": "ipython",
    "version": 3
   },
   "file_extension": ".py",
   "mimetype": "text/x-python",
   "name": "python",
   "nbconvert_exporter": "python",
   "pygments_lexer": "ipython3",
   "version": "3.9.1"
  }
 },
 "nbformat": 4,
 "nbformat_minor": 4
}
