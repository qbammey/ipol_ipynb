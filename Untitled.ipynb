{
 "cells": [
  {
   "cell_type": "markdown",
   "metadata": {},
   "source": [
    "## still tbd\n",
    "\n",
    "* max img size\n",
    "* externalize a few things\n",
    "* disable the run button once clicked, and enable it again after the run ?\n",
    "\n",
    "## First part of the notebook: will run once at initialization. Set here the import, function definitions, etc"
   ]
  },
  {
   "cell_type": "code",
   "execution_count": 4,
   "metadata": {},
   "outputs": [],
   "source": [
    "import ipywidgets as widgets\n",
    "from pathlib import Path\n",
    "import io\n",
    "import numpy as np\n",
    "from matplotlib import pyplot as plt\n",
    "import imageio\n",
    "import PIL\n",
    "#from IPython.display import Javascript, display\n",
    "#import ipython_blocking\n",
    "from glob import glob"
   ]
  },
  {
   "cell_type": "code",
   "execution_count": 5,
   "metadata": {},
   "outputs": [],
   "source": [
    "from simplest_color_balance import scb"
   ]
  },
  {
   "cell_type": "markdown",
   "metadata": {},
   "source": [
    "## !!! the following line requires python-ipympl"
   ]
  },
  {
   "cell_type": "code",
   "execution_count": 20,
   "metadata": {},
   "outputs": [
    {
     "name": "stdout",
     "output_type": "stream",
     "text": [
      "Warning: Cannot change to a different GUI toolkit: widget. Using notebook instead.\n"
     ]
    }
   ],
   "source": [
    "%matplotlib widget"
   ]
  },
  {
   "cell_type": "markdown",
   "metadata": {},
   "source": [
    "## With the following two cells, we can block voilà from executing some cells automatically\n",
    "\n",
    "Just put this line at the beginning of the cell:\n",
    "\n",
    "`%%skip block_run`\n",
    "\n",
    "At the end of the notebook, we switch `block_run` to `False`. That way, the first run of the notebook (ie. voilà loading) will skip those cells, but the subsequent runs (those launched by the user) will run them.\n",
    "\n",
    "See https://stackoverflow.com/questions/26494747/simple-way-to-choose-which-cells-to-run-in-ipython-notebook-during-run-all"
   ]
  },
  {
   "cell_type": "code",
   "execution_count": 7,
   "metadata": {},
   "outputs": [],
   "source": [
    "block_run = True"
   ]
  },
  {
   "cell_type": "code",
   "execution_count": 9,
   "metadata": {},
   "outputs": [],
   "source": [
    "def skip(line, cell=None):\n",
    "    '''Skips execution of the current line/cell if line evaluates to True.'''\n",
    "    if eval(line):\n",
    "        return\n",
    "\n",
    "    get_ipython().ex(cell)\n",
    "\n",
    "def load_ipython_extension(shell):\n",
    "    '''Registers the skip magic when the extension loads.'''\n",
    "    shell.register_magic_function(skip, 'line_cell')\n",
    "\n",
    "def unload_ipython_extension(shell):\n",
    "    '''Unregisters the skip magic when the extension unloads.'''\n",
    "    del shell.magics_manager.magics['cell']['skip']\n",
    "    \n",
    "    \n",
    "load_ipython_extension(get_ipython())"
   ]
  },
  {
   "cell_type": "markdown",
   "metadata": {},
   "source": [
    "## In the cell below we read the parameters"
   ]
  },
  {
   "cell_type": "code",
   "execution_count": 8,
   "metadata": {},
   "outputs": [
    {
     "data": {
      "application/vnd.jupyter.widget-view+json": {
       "model_id": "1da50808ed6e417699966f7c220e0c90",
       "version_major": 2,
       "version_minor": 0
      },
      "text/plain": [
       "VBox(children=(FileUpload(value={}, accept='image/*', description='Input image', layout=Layout(grid_area='widg…"
      ]
     },
     "metadata": {},
     "output_type": "display_data"
    }
   ],
   "source": [
    "# Define widgets\n",
    "\n",
    "w_up_img = widgets.FileUpload(\n",
    "    accept='image/*',\n",
    "    description=\"Input image\"\n",
    ")\n",
    "\n",
    "images = list(map(Path, glob('/home/feanolwe/projects/images/original/*')))[:10]\n",
    "ws_images = [widgets.Image(width=150, height=150, value=open(img, 'rb').read()) for img in images]\n",
    "images_labels_text = [img.stem for img in images]\n",
    "ws_buttons = [widgets.Button(description=label, button_style='') for label in images_labels_text]\n",
    "ws_stack_image_button = [widgets.VBox([i, b]) for i, b in zip(ws_images, ws_buttons)]\n",
    "w_img_choice = widgets.GridBox(ws_stack_image_button, layout=widgets.Layout(grid_template_columns=\"repeat(5, 200px)\"))\n",
    "\n",
    "w_show_sel_img = widgets.Image(width=300, height=300)\n",
    "\n",
    "\n",
    "w_choose_crop = widgets.Checkbox(value=False, description=\"Crop image?\")\n",
    "\n",
    "w_crop_slider_x = widgets.IntRangeSlider(\n",
    "    min=0,\n",
    "    max=0,\n",
    "    value=(0, 0),\n",
    "    step=1,\n",
    "    description='X Crop')\n",
    "\n",
    "w_crop_slider_y = widgets.IntRangeSlider(\n",
    "    min=0,\n",
    "    max=0,\n",
    "    value=(0, 0),\n",
    "    step=1,\n",
    "    description='Y Crop')\n",
    "\n",
    "w_crop_slider_x.layout.visibility = 'hidden'\n",
    "w_crop_slider_y.layout.visibility = 'hidden'\n",
    "\n",
    "\n",
    "w_s = widgets.FloatRangeSlider(\n",
    "    min=0,\n",
    "    max=100,\n",
    "    value=(1.5, 98.5),\n",
    "    step=.1,\n",
    "    readout_format='.1f',\n",
    "    description='Percentage of pixels to keep')\n",
    "w_s0 = widgets.FloatText(description='s0', value=w_s.value[0])\n",
    "w_s1 = widgets.FloatText(description='s1', value=w_s.value[1])\n",
    "\n",
    "w_run = widgets.Button(description='run', icon='cog')\n",
    "\n",
    "\n",
    "# Observation functions\n",
    "def set_new_image(new_img):\n",
    "    w_show_sel_img.value = new_img\n",
    "    w_show_sel_img.stored = w_show_sel_img.value\n",
    "    X, Y = PIL.Image.open(io.BytesIO(w_show_sel_img.value)).size\n",
    "    w_crop_slider_x.max = X\n",
    "    w_crop_slider_y.max = Y\n",
    "    w_crop_slider_x.value = (0, X)\n",
    "    w_crop_slider_y.value = (0, Y)\n",
    "    w_choose_crop.value = False\n",
    "\n",
    "\n",
    "def observe_w_up_img(change):\n",
    "    set_new_image(change.new[0])\n",
    "\n",
    "def select_new_image_in_choice(b):\n",
    "    set_new_image(ws_images[b.id].value)\n",
    "\n",
    "def observe_w_s0(change):\n",
    "    old_s0, s1 = w_s.value\n",
    "    new_s0 = min(s1, max(0, change.new))\n",
    "    w_s0.value = new_s0\n",
    "    w_s.value = new_s0, s1\n",
    "    \n",
    "def observe_w_s1(change):\n",
    "    s0, old_s1 = w_s.value\n",
    "    new_s1 = min(100, max(s0, change.new))\n",
    "    w_s1.value = new_s1\n",
    "    w_s.value = s0, new_s1\n",
    "    \n",
    "def observe_w_s(change):\n",
    "    s0, s1 = change.new\n",
    "    w_s0.value = s0\n",
    "    w_s1.value = s1\n",
    "    \n",
    "def observe_choose_crop(change):\n",
    "    if change.new:\n",
    "        w_crop_slider_x.layout.visibility = 'visible'\n",
    "        w_crop_slider_y.layout.visibility = 'visible'\n",
    "    else:\n",
    "        w_crop_slider_x.layout.visibility = 'hidden'\n",
    "        w_crop_slider_y.layout.visibility = 'hidden'\n",
    "        w_show_sel_img.value = w_show_sel_img.stored\n",
    "    \n",
    "\n",
    "def observe_crop_sliders(_):\n",
    "    left, right = w_crop_slider_x.value\n",
    "    top, bottom = w_crop_slider_y.value\n",
    "    img = PIL.Image.open(io.BytesIO(w_show_sel_img.stored))\n",
    "    img = img.crop((left, top, right, bottom))\n",
    "    out = io.BytesIO()\n",
    "    img.save(out, format='png')\n",
    "    out.seek(0)\n",
    "    w_show_sel_img.value = out.read()\n",
    "    \n",
    "\n",
    "def run_all(_):\n",
    "    display(Javascript('IPython.notebook.execute_cell_range(IPython.notebook.get_selected_index()+1, IPython.notebook.ncells())'))\n",
    "\n",
    "    \n",
    "# load observations\n",
    "for i in range(len(ws_buttons)):\n",
    "    ws_buttons[i].id = i\n",
    "    ws_buttons[i].on_click(select_new_image_in_choice)\n",
    "\n",
    "w_up_img.observe(observe_w_up_img, names='data')\n",
    "    \n",
    "select_new_image_in_choice(ws_buttons[0])\n",
    "    \n",
    "w_choose_crop.observe(observe_choose_crop, 'value')\n",
    "w_crop_slider_x.observe(observe_crop_sliders, 'value')\n",
    "w_crop_slider_y.observe(observe_crop_sliders, 'value') \n",
    "\n",
    "w_s0.observe(observe_w_s0, names='value')\n",
    "w_s1.observe(observe_w_s1, names='value')\n",
    "w_s.observe(observe_w_s, names='value')\n",
    "\n",
    "#gridspec\n",
    "grid = widgets.GridspecLayout(6, 3)\n",
    "grid[0, :] = w_up_img\n",
    "grid[1, :] = w_img_choice\n",
    "grid[2, :] = w_show_sel_img\n",
    "grid[3, 0] = w_choose_crop\n",
    "grid[3, 1] = w_crop_slider_x\n",
    "grid[3, 2] = w_crop_slider_y\n",
    "grid[4, 0] = w_s0\n",
    "grid[4, 1] = w_s\n",
    "grid[4, 2] = w_s1\n",
    "grid[5, :] = w_run\n",
    "\n",
    "vb = widgets.VBox(\n",
    "    [\n",
    "        w_up_img,\n",
    "        w_img_choice,\n",
    "        w_show_sel_img,\n",
    "        widgets.HBox([w_choose_crop, w_crop_slider_x, w_crop_slider_y]),\n",
    "        widgets.HBox([w_s0, w_s, w_s1]),\n",
    "        w_run    \n",
    "    ],\n",
    "    align_items='center'\n",
    ")\n",
    "\n",
    "w_run.on_click(run_all)\n",
    "\n",
    "# display\n",
    "display(vb)"
   ]
  },
  {
   "cell_type": "markdown",
   "metadata": {},
   "source": [
    "## Read parameters from the widgets"
   ]
  },
  {
   "cell_type": "code",
   "execution_count": null,
   "metadata": {},
   "outputs": [],
   "source": [
    "%%skip block_run\n",
    "#%blockrun w_run\n",
    "\n",
    "img = imageio.imread(w_show_sel_img.value)\n",
    "s0, s1 = w_s.value\n",
    "s0 = s0/100 # our code expects a float between 0 and 1, but we used percentiles in the input for user-friendliness\n",
    "s1 = 1 - s1/100 # the code expects the proportion of pixels to remove, not to keep"
   ]
  },
  {
   "cell_type": "markdown",
   "metadata": {},
   "source": [
    "## Run the code"
   ]
  },
  {
   "cell_type": "code",
   "execution_count": null,
   "metadata": {},
   "outputs": [],
   "source": [
    "%%skip block_run\n",
    "#%blockrun w_run\n",
    "out = scb(img, s0, s1)"
   ]
  },
  {
   "cell_type": "markdown",
   "metadata": {},
   "source": [
    "## Display results"
   ]
  },
  {
   "cell_type": "code",
   "execution_count": null,
   "metadata": {},
   "outputs": [],
   "source": [
    "%%skip block_run\n",
    "#%blockrun w_run\n",
    "diff = np.sqrt(np.mean(np.square(img/255 - out), axis=-1))\n",
    "\n",
    "fig, ax = plt.subplots(1, 3, sharex=True, sharey=True)\n",
    "ax[0].imshow(img)\n",
    "ax[1].imshow(out)\n",
    "ax[2].matshow(diff)\n",
    "ax[0].axis('off')\n",
    "ax[1].axis('off')\n",
    "ax[2].axis('off')\n",
    "\n",
    "None\n",
    "plt.show()"
   ]
  },
  {
   "cell_type": "markdown",
   "metadata": {},
   "source": [
    "## Calls for archival here"
   ]
  },
  {
   "cell_type": "markdown",
   "metadata": {},
   "source": [
    "## End of the notebook\n",
    "\n",
    "Once voilà reaches this part, disable the blocking, so that subsequent runs (with the user input) don't ignore cells."
   ]
  },
  {
   "cell_type": "code",
   "execution_count": 17,
   "metadata": {},
   "outputs": [],
   "source": [
    "block_run = False"
   ]
  }
 ],
 "metadata": {
  "kernelspec": {
   "display_name": "Python 3",
   "language": "python",
   "name": "python3"
  },
  "language_info": {
   "codemirror_mode": {
    "name": "ipython",
    "version": 3
   },
   "file_extension": ".py",
   "mimetype": "text/x-python",
   "name": "python",
   "nbconvert_exporter": "python",
   "pygments_lexer": "ipython3",
   "version": "3.9.1"
  }
 },
 "nbformat": 4,
 "nbformat_minor": 4
}
